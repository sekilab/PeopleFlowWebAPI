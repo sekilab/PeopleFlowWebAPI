{
  "nbformat": 4,
  "nbformat_minor": 0,
  "metadata": {
    "colab": {
      "provenance": []
    },
    "kernelspec": {
      "name": "python3",
      "display_name": "Python 3"
    },
    "language_info": {
      "name": "python"
    }
  },
  "cells": [
    {
      "cell_type": "code",
      "execution_count": null,
      "metadata": {
        "id": "k_A4Lpsn8VZ5"
      },
      "outputs": [],
      "source": [
        "import requests\n",
        "import json\n",
        "import datetime\n",
        "import random\n",
        "\n",
        "import pandas as pd\n",
        "import geopandas as gpd\n",
        "\n",
        "import folium\n",
        "\n",
        "from concurrent.futures import ThreadPoolExecutor, as_completed\n",
        "\n",
        "import warnings\n",
        "warnings.filterwarnings('ignore')"
      ]
    },
    {
      "cell_type": "markdown",
      "source": [
        "## CreateSession"
      ],
      "metadata": {
        "id": "F3suI2f79v8B"
      }
    },
    {
      "cell_type": "code",
      "source": [
        "url = 'https://pflow-api.csis.u-tokyo.ac.jp/webapi/CreateSession'\n",
        "\n",
        "data = {\n",
        "    'UserID': 'JoRAS_Account_ID',\n",
        "    'Password': 'JoRAS_Account_PWD'\n",
        "}\n",
        "\n",
        "response = requests.post(url, data=data, verify=False)\n",
        "\n",
        "if response.status_code == 200:\n",
        "    print('Session created successfully')\n",
        "    print(response.text)\n",
        "    status, sessionid = response.text.split(',')\n",
        "    headers = {'WebApiSessionID': sessionid.strip('\\r\\n')}\n",
        "    print(\"Status:{}, SessionID: {}\".format(status, sessionid))\n",
        "else:\n",
        "    print('Failed to post data:', response.status_code)"
      ],
      "metadata": {
        "id": "CLrYMbVR9zzT"
      },
      "execution_count": null,
      "outputs": []
    },
    {
      "cell_type": "markdown",
      "source": [
        "## GetNearestRoadPoint"
      ],
      "metadata": {
        "id": "tl49DNi4-D4_"
      }
    },
    {
      "cell_type": "code",
      "source": [
        "starttime = datetime.datetime.now()\n",
        "\n",
        "url = 'http://157.82.223.35/webapi/GetNearestRoadPoint'\n",
        "\n",
        "data = {\n",
        "    'UnitTypeCode': '2',\n",
        "    'PosLongitude': '139.8732',\n",
        "    'PosLatitude': '36.0484',\n",
        "    'RoadKindCode': '',\n",
        "    'RoadNo': '',\n",
        "}\n",
        "\n",
        "response = requests.post(url, cookies=headers, data=data)\n",
        "\n",
        "if response.status_code == 200:\n",
        "    status, roadtype, roadid, meshcode, lon, lat = [value for s in response.text.split(',') for value in s.split('\\r\\n') if value]\n",
        "    if status.strip('\\r\\n') == '1':\n",
        "        print(\"NearestRoadPoint Detected\")\n",
        "        print(\"Status:{}, RoadType: {}, RoadID: {}, MeshCode: {}, Longitude: {}, Latitude: {}\".format(status, roadtype, roadid, meshcode, lon, lat))\n",
        "else:\n",
        "    print('Failed to post data:', response.status_code)\n",
        "\n",
        "endtime = datetime.datetime.now()\n",
        "print(\"Get Nearest Road Point time:\", endtime-starttime)"
      ],
      "metadata": {
        "id": "G9sLgGY4-JFn"
      },
      "execution_count": null,
      "outputs": []
    },
    {
      "cell_type": "markdown",
      "source": [
        "## GetRoadRoute"
      ],
      "metadata": {
        "id": "FPLnaNVN-Nve"
      }
    },
    {
      "cell_type": "code",
      "source": [
        "starttime = datetime.datetime.now()\n",
        "\n",
        "url = 'http://157.82.223.35/webapi/GetRoadRoute'\n",
        "\n",
        "data = {\n",
        "    'UnitTypeCode': '2',\n",
        "    'StartLongitude': '139.67727019',\n",
        "    'StartLatitude': '35.66412606',\n",
        "    'GoalLongitude': '138.808493',\n",
        "    'GoalLatitude': '36.017459',\n",
        "    'WayLongitude': '',\n",
        "    'WayLatitude': '',\n",
        "    'RoadKindCode': '',\n",
        "    'RoadNo': '',\n",
        "    'TransportCode': '6',\n",
        "    'OutputNum': '1',\n",
        "}\n",
        "\n",
        "response = requests.post(url, cookies=headers, data=data, verify=False)\n",
        "\n",
        "if response.status_code == 200:\n",
        "    # print(response.text)\n",
        "    # print([value.strip() for s in response.text.split(',') for value in s.split('\\n') if value.strip()])\n",
        "    split_values = [value.strip() for s in response.text.split(',') for value in s.split('\\n') if value.strip()]\n",
        "    route_values = split_values[11:]\n",
        "\n",
        "    routes = []\n",
        "    current_route = None\n",
        "    current_coordinates = []\n",
        "\n",
        "    for value in route_values:\n",
        "        if value.isdigit():\n",
        "            if current_route is not None:\n",
        "                routes.append((current_route, current_coordinates))\n",
        "            current_route = value\n",
        "            current_coordinates = []\n",
        "        else:\n",
        "            current_coordinates.append(value)\n",
        "    if current_route is not None:\n",
        "        routes.append((current_route, current_coordinates))\n",
        "\n",
        "    # print('route:', routes)\n",
        "    # status, routeno, route1_len,route2_len,route3_len, route1_no, route2_no, route3_no, route1_time, route2_time, route3_time, out_route_no, lon, lat = [value.strip() for s in response.text.split(',') for value in s.split('\\n') if value.strip()]\n",
        "\n",
        "    if status.strip('\\r\\n') == '1':\n",
        "        print(\"NearestRoadPoint Detected\")\n",
        "        # print(\"Status:{}, RoadType: {}, RoadID: {}, MeshCode: {}, Longitude: {}, Latitude: {}\".format(status, roadtype, roadid, meshcode, lon, lat))\n",
        "else:\n",
        "    print('Failed to post data:', response.status_code)\n",
        "\n",
        "endtime = datetime.datetime.now()\n",
        "print(\"Get Nearest Road Point time:\", endtime-starttime)"
      ],
      "metadata": {
        "id": "C6tdbBCs-Px7"
      },
      "execution_count": null,
      "outputs": []
    }
  ]
}